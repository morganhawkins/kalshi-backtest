{
 "cells": [
  {
   "cell_type": "code",
   "execution_count": 1,
   "id": "4df53ee9",
   "metadata": {},
   "outputs": [],
   "source": [
    "from pathlib import Path\n",
    "import warnings\n",
    "warnings.filterwarnings('ignore')\n",
    "\n",
    "import numpy as np\n",
    "import pandas as pd\n",
    "import datetime as dt\n",
    "from matplotlib import pyplot as plt\n",
    "from tqdm import tqdm\n",
    "\n",
    "from src.models.geom_bm import GBMStepModel\n",
    "from src.data_feeder.sim_data_feeder import SimDataFeeder\n",
    "from src.timers import AcceleratedTimer, DeltaTimer\n",
    "from src.data_loaders import LazyLoader\n",
    "from src.markets import SimKalshiMarket\n",
    "from src.backtester.linked_feeders import FeederCreator\n",
    "from src.agents.hedging_agent import HedgingAgent\n",
    "from src.exceptions import SimFinished"
   ]
  },
  {
   "cell_type": "code",
   "execution_count": 2,
   "id": "8322c27d",
   "metadata": {},
   "outputs": [],
   "source": [
    "def get_terminal_port_values(max_under_pos: float, min_tte_hedge: float) -> list:\n",
    "    \"\"\"evaluate hedge strategy with the following two hyperparameters\n",
    "    Args:\n",
    "        max_under_pos (float): maximum magnitude of delta hedge in shares\n",
    "        min_tte_hedge (float): will not rebalance hedge after this expiration time\n",
    "    \"\"\"\n",
    "    end_values = []\n",
    "    for deriv_feeder, under_feeder, timer, meta_data in FeederCreator.iterate(timedelta=60):\n",
    "\n",
    "        #  looping through contracts\n",
    "        deriv_feeder.start()\n",
    "        under_feeder.start()\n",
    "        agent = HedgingAgent(deriv_feeder, under_feeder, timer, meta_data['strike'], max_under_pos=max_under_pos, min_tte_hedge=min_tte_hedge)\n",
    "\n",
    "        while True:\n",
    "            timer.cycle()\n",
    "\n",
    "            try:\n",
    "                agent.consume()\n",
    "\n",
    "            except SimFinished:\n",
    "                # print(f\"finished {data_points_count} {meta_data['strike']} {meta_data['date']}\")\n",
    "                net_end = agent.reconcile_hedge(meta_data['terminal_u_price']) + meta_data['outcome']\n",
    "                end_values.append(net_end)\n",
    "                break\n",
    "    \n",
    "    return end_values\n",
    "\n",
    "        \n",
    "        "
   ]
  },
  {
   "cell_type": "code",
   "execution_count": 3,
   "id": "f6844320",
   "metadata": {},
   "outputs": [],
   "source": [
    "results = []"
   ]
  },
  {
   "cell_type": "code",
   "execution_count": null,
   "id": "f83eda1f",
   "metadata": {},
   "outputs": [],
   "source": [
    "# backtest\n",
    "max_max_under_pos = .0015\n",
    "max_min_tte_hedge = .7\n",
    "samples = 12\n",
    "sampled_no_hedge = False\n",
    "for max_under_pos in (np.linspace(0, max_max_under_pos, samples)):\n",
    "    for min_tte_hedge in tqdm(np.linspace(0, max_min_tte_hedge, samples)):\n",
    "        if max_under_pos == 0:\n",
    "            if not sampled_no_hedge:\n",
    "                sampled_no_hedge = True\n",
    "            else:\n",
    "                continue\n",
    "\n",
    "        end_values = get_terminal_port_values(max_under_pos=max_under_pos, min_tte_hedge=min_tte_hedge)\n",
    "        mean = np.mean(end_values)\n",
    "        var = np.var(end_values)\n",
    "        row = {\n",
    "            \"max_under_pos\": max_under_pos,\n",
    "            \"min_tte_hedge\": min_tte_hedge,\n",
    "            \"mean\": mean,\n",
    "            \"var\": var,\n",
    "        }\n",
    "        \n",
    "        results.append(row)\n",
    "\n",
    "\n"
   ]
  },
  {
   "cell_type": "code",
   "execution_count": null,
   "id": "7fe24632",
   "metadata": {},
   "outputs": [],
   "source": [
    "# save results\n",
    "res_df = pd.DataFrame(results)\n",
    "res_df.to_csv(\"hedge_agent_res.csv\")"
   ]
  },
  {
   "cell_type": "code",
   "execution_count": null,
   "id": "090da3b9",
   "metadata": {},
   "outputs": [
    {
     "name": "stdout",
     "output_type": "stream",
     "text": [
      "Variance With No Hedge\n",
      "max_under_pos    0.000000\n",
      "min_tte_hedge    0.000000\n",
      "mean             0.491124\n",
      "var              0.249921\n",
      "Name: 0, dtype: float64 \n",
      "\n",
      "\n",
      "Variance With Delta Hedge\n",
      "max_under_pos    0.000682\n",
      "min_tte_hedge    0.000000\n",
      "mean             0.495915\n",
      "var              0.155525\n",
      "Name: 49, dtype: float64 \n",
      "\n",
      "\n"
     ]
    }
   ],
   "source": [
    "# printing results\n",
    "am = res_df['var'].argmin()\n",
    "min_var = res_df.iloc[am]\n",
    "no_hedge = res_df.iloc[0]\n",
    "print(\"Variance With No Hedge\")\n",
    "print(no_hedge, \"\\n\\n\")\n",
    "\n",
    "print(\"Variance With Delta Hedge\")\n",
    "print(min_var, \"\\n\\n\")"
   ]
  }
 ],
 "metadata": {
  "kernelspec": {
   "display_name": ".venv",
   "language": "python",
   "name": "python3"
  },
  "language_info": {
   "codemirror_mode": {
    "name": "ipython",
    "version": 3
   },
   "file_extension": ".py",
   "mimetype": "text/x-python",
   "name": "python",
   "nbconvert_exporter": "python",
   "pygments_lexer": "ipython3",
   "version": "3.13.3"
  }
 },
 "nbformat": 4,
 "nbformat_minor": 5
}
